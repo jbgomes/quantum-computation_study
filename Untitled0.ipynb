{
  "nbformat": 4,
  "nbformat_minor": 0,
  "metadata": {
    "colab": {
      "provenance": [],
      "authorship_tag": "ABX9TyPcCxzMSu5mkfVg70KQd5cb",
      "include_colab_link": true
    },
    "kernelspec": {
      "name": "python3",
      "display_name": "Python 3"
    },
    "language_info": {
      "name": "python"
    }
  },
  "cells": [
    {
      "cell_type": "markdown",
      "metadata": {
        "id": "view-in-github",
        "colab_type": "text"
      },
      "source": [
        "<a href=\"https://colab.research.google.com/github/jbgomes/quantum-computing_studies/blob/main/Untitled0.ipynb\" target=\"_parent\"><img src=\"https://colab.research.google.com/assets/colab-badge.svg\" alt=\"Open In Colab\"/></a>"
      ]
    },
    {
      "cell_type": "code",
      "execution_count": null,
      "metadata": {
        "colab": {
          "base_uri": "https://localhost:8080/"
        },
        "id": "xTUS5t2PXSiI",
        "outputId": "5edffede-f1c6-4276-dbc0-531e2bf6bbbd"
      },
      "outputs": [
        {
          "output_type": "stream",
          "name": "stdout",
          "text": [
            "Collecting qiskit\n",
            "  Downloading qiskit-1.2.4-cp38-abi3-manylinux_2_17_x86_64.manylinux2014_x86_64.whl.metadata (12 kB)\n",
            "Collecting rustworkx>=0.15.0 (from qiskit)\n",
            "  Downloading rustworkx-0.15.1-cp38-abi3-manylinux_2_17_x86_64.manylinux2014_x86_64.whl.metadata (9.9 kB)\n",
            "Requirement already satisfied: numpy<3,>=1.17 in /usr/local/lib/python3.10/dist-packages (from qiskit) (1.26.4)\n",
            "Requirement already satisfied: scipy>=1.5 in /usr/local/lib/python3.10/dist-packages (from qiskit) (1.13.1)\n",
            "Requirement already satisfied: sympy>=1.3 in /usr/local/lib/python3.10/dist-packages (from qiskit) (1.13.3)\n",
            "Collecting dill>=0.3 (from qiskit)\n",
            "  Downloading dill-0.3.9-py3-none-any.whl.metadata (10 kB)\n",
            "Requirement already satisfied: python-dateutil>=2.8.0 in /usr/local/lib/python3.10/dist-packages (from qiskit) (2.8.2)\n",
            "Collecting stevedore>=3.0.0 (from qiskit)\n",
            "  Downloading stevedore-5.3.0-py3-none-any.whl.metadata (2.3 kB)\n",
            "Requirement already satisfied: typing-extensions in /usr/local/lib/python3.10/dist-packages (from qiskit) (4.12.2)\n",
            "Collecting symengine<0.14,>=0.11 (from qiskit)\n",
            "  Downloading symengine-0.13.0-cp310-cp310-manylinux_2_17_x86_64.manylinux2014_x86_64.whl.metadata (1.2 kB)\n",
            "Requirement already satisfied: six>=1.5 in /usr/local/lib/python3.10/dist-packages (from python-dateutil>=2.8.0->qiskit) (1.16.0)\n",
            "Collecting pbr>=2.0.0 (from stevedore>=3.0.0->qiskit)\n",
            "  Downloading pbr-6.1.0-py2.py3-none-any.whl.metadata (3.4 kB)\n",
            "Requirement already satisfied: mpmath<1.4,>=1.1.0 in /usr/local/lib/python3.10/dist-packages (from sympy>=1.3->qiskit) (1.3.0)\n",
            "Downloading qiskit-1.2.4-cp38-abi3-manylinux_2_17_x86_64.manylinux2014_x86_64.whl (4.8 MB)\n",
            "\u001b[2K   \u001b[90m━━━━━━━━━━━━━━━━━━━━━━━━━━━━━━━━━━━━━━━━\u001b[0m \u001b[32m4.8/4.8 MB\u001b[0m \u001b[31m34.6 MB/s\u001b[0m eta \u001b[36m0:00:00\u001b[0m\n",
            "\u001b[?25hDownloading dill-0.3.9-py3-none-any.whl (119 kB)\n",
            "\u001b[2K   \u001b[90m━━━━━━━━━━━━━━━━━━━━━━━━━━━━━━━━━━━━━━━━\u001b[0m \u001b[32m119.4/119.4 kB\u001b[0m \u001b[31m5.9 MB/s\u001b[0m eta \u001b[36m0:00:00\u001b[0m\n",
            "\u001b[?25hDownloading rustworkx-0.15.1-cp38-abi3-manylinux_2_17_x86_64.manylinux2014_x86_64.whl (2.0 MB)\n",
            "\u001b[2K   \u001b[90m━━━━━━━━━━━━━━━━━━━━━━━━━━━━━━━━━━━━━━━━\u001b[0m \u001b[32m2.0/2.0 MB\u001b[0m \u001b[31m47.2 MB/s\u001b[0m eta \u001b[36m0:00:00\u001b[0m\n",
            "\u001b[?25hDownloading stevedore-5.3.0-py3-none-any.whl (49 kB)\n",
            "\u001b[2K   \u001b[90m━━━━━━━━━━━━━━━━━━━━━━━━━━━━━━━━━━━━━━━━\u001b[0m \u001b[32m49.7/49.7 kB\u001b[0m \u001b[31m3.1 MB/s\u001b[0m eta \u001b[36m0:00:00\u001b[0m\n",
            "\u001b[?25hDownloading symengine-0.13.0-cp310-cp310-manylinux_2_17_x86_64.manylinux2014_x86_64.whl (49.7 MB)\n",
            "\u001b[2K   \u001b[90m━━━━━━━━━━━━━━━━━━━━━━━━━━━━━━━━━━━━━━━━\u001b[0m \u001b[32m49.7/49.7 MB\u001b[0m \u001b[31m19.1 MB/s\u001b[0m eta \u001b[36m0:00:00\u001b[0m\n",
            "\u001b[?25hDownloading pbr-6.1.0-py2.py3-none-any.whl (108 kB)\n",
            "\u001b[2K   \u001b[90m━━━━━━━━━━━━━━━━━━━━━━━━━━━━━━━━━━━━━━━━\u001b[0m \u001b[32m108.5/108.5 kB\u001b[0m \u001b[31m6.0 MB/s\u001b[0m eta \u001b[36m0:00:00\u001b[0m\n",
            "\u001b[?25hInstalling collected packages: symengine, rustworkx, pbr, dill, stevedore, qiskit\n",
            "Successfully installed dill-0.3.9 pbr-6.1.0 qiskit-1.2.4 rustworkx-0.15.1 stevedore-5.3.0 symengine-0.13.0\n"
          ]
        }
      ],
      "source": [
        "pip install qiskit"
      ]
    },
    {
      "cell_type": "code",
      "source": [
        "# pip install QuantumCircuit"
      ],
      "metadata": {
        "id": "KuXtfAsP07aV"
      },
      "execution_count": null,
      "outputs": []
    },
    {
      "cell_type": "code",
      "source": [
        "pip install pennylane"
      ],
      "metadata": {
        "colab": {
          "base_uri": "https://localhost:8080/"
        },
        "id": "B1U03y2LXi9W",
        "outputId": "569a7d09-7b8d-464a-8b23-cf5994745169"
      },
      "execution_count": null,
      "outputs": [
        {
          "output_type": "stream",
          "name": "stdout",
          "text": [
            "Collecting pennylane\n",
            "  Downloading PennyLane-0.38.0-py3-none-any.whl.metadata (9.3 kB)\n",
            "Requirement already satisfied: numpy<2.0 in /usr/local/lib/python3.10/dist-packages (from pennylane) (1.26.4)\n",
            "Requirement already satisfied: scipy in /usr/local/lib/python3.10/dist-packages (from pennylane) (1.13.1)\n",
            "Requirement already satisfied: networkx in /usr/local/lib/python3.10/dist-packages (from pennylane) (3.3)\n",
            "Requirement already satisfied: rustworkx>=0.14.0 in /usr/local/lib/python3.10/dist-packages (from pennylane) (0.15.1)\n",
            "Requirement already satisfied: autograd in /usr/local/lib/python3.10/dist-packages (from pennylane) (1.7.0)\n",
            "Requirement already satisfied: toml in /usr/local/lib/python3.10/dist-packages (from pennylane) (0.10.2)\n",
            "Collecting appdirs (from pennylane)\n",
            "  Downloading appdirs-1.4.4-py2.py3-none-any.whl.metadata (9.0 kB)\n",
            "Collecting autoray>=0.6.11 (from pennylane)\n",
            "  Downloading autoray-0.6.12-py3-none-any.whl.metadata (5.7 kB)\n",
            "Requirement already satisfied: cachetools in /usr/local/lib/python3.10/dist-packages (from pennylane) (5.5.0)\n",
            "Collecting pennylane-lightning>=0.38 (from pennylane)\n",
            "  Downloading PennyLane_Lightning-0.38.0-cp310-cp310-manylinux_2_28_x86_64.whl.metadata (26 kB)\n",
            "Requirement already satisfied: requests in /usr/local/lib/python3.10/dist-packages (from pennylane) (2.32.3)\n",
            "Requirement already satisfied: typing-extensions in /usr/local/lib/python3.10/dist-packages (from pennylane) (4.12.2)\n",
            "Requirement already satisfied: packaging in /usr/local/lib/python3.10/dist-packages (from pennylane) (24.1)\n",
            "Requirement already satisfied: charset-normalizer<4,>=2 in /usr/local/lib/python3.10/dist-packages (from requests->pennylane) (3.3.2)\n",
            "Requirement already satisfied: idna<4,>=2.5 in /usr/local/lib/python3.10/dist-packages (from requests->pennylane) (3.10)\n",
            "Requirement already satisfied: urllib3<3,>=1.21.1 in /usr/local/lib/python3.10/dist-packages (from requests->pennylane) (2.2.3)\n",
            "Requirement already satisfied: certifi>=2017.4.17 in /usr/local/lib/python3.10/dist-packages (from requests->pennylane) (2024.8.30)\n",
            "Downloading PennyLane-0.38.0-py3-none-any.whl (1.9 MB)\n",
            "\u001b[2K   \u001b[90m━━━━━━━━━━━━━━━━━━━━━━━━━━━━━━━━━━━━━━━━\u001b[0m \u001b[32m1.9/1.9 MB\u001b[0m \u001b[31m15.7 MB/s\u001b[0m eta \u001b[36m0:00:00\u001b[0m\n",
            "\u001b[?25hDownloading autoray-0.6.12-py3-none-any.whl (50 kB)\n",
            "\u001b[2K   \u001b[90m━━━━━━━━━━━━━━━━━━━━━━━━━━━━━━━━━━━━━━━━\u001b[0m \u001b[32m51.0/51.0 kB\u001b[0m \u001b[31m3.1 MB/s\u001b[0m eta \u001b[36m0:00:00\u001b[0m\n",
            "\u001b[?25hDownloading PennyLane_Lightning-0.38.0-cp310-cp310-manylinux_2_28_x86_64.whl (15.3 MB)\n",
            "\u001b[2K   \u001b[90m━━━━━━━━━━━━━━━━━━━━━━━━━━━━━━━━━━━━━━━━\u001b[0m \u001b[32m15.3/15.3 MB\u001b[0m \u001b[31m36.1 MB/s\u001b[0m eta \u001b[36m0:00:00\u001b[0m\n",
            "\u001b[?25hDownloading appdirs-1.4.4-py2.py3-none-any.whl (9.6 kB)\n",
            "Installing collected packages: appdirs, autoray, pennylane-lightning, pennylane\n",
            "Successfully installed appdirs-1.4.4 autoray-0.6.12 pennylane-0.38.0 pennylane-lightning-0.38.0\n"
          ]
        }
      ]
    },
    {
      "cell_type": "code",
      "source": [
        "pip install pylatexenc"
      ],
      "metadata": {
        "colab": {
          "base_uri": "https://localhost:8080/"
        },
        "id": "MAal15pEXtA5",
        "outputId": "056f9e1c-023a-4cf2-ec60-2f3a2d5cdbb4"
      },
      "execution_count": null,
      "outputs": [
        {
          "output_type": "stream",
          "name": "stdout",
          "text": [
            "Collecting pylatexenc\n",
            "  Downloading pylatexenc-2.10.tar.gz (162 kB)\n",
            "\u001b[?25l     \u001b[90m━━━━━━━━━━━━━━━━━━━━━━━━━━━━━━━━━━━━━━━━\u001b[0m \u001b[32m0.0/162.6 kB\u001b[0m \u001b[31m?\u001b[0m eta \u001b[36m-:--:--\u001b[0m\r\u001b[2K     \u001b[91m━━━━━━━━━━━━━━━━━━━━━━━━━━━━━━━━━━━━━\u001b[0m\u001b[91m╸\u001b[0m\u001b[90m━━\u001b[0m \u001b[32m153.6/162.6 kB\u001b[0m \u001b[31m4.4 MB/s\u001b[0m eta \u001b[36m0:00:01\u001b[0m\r\u001b[2K     \u001b[90m━━━━━━━━━━━━━━━━━━━━━━━━━━━━━━━━━━━━━━━━\u001b[0m \u001b[32m162.6/162.6 kB\u001b[0m \u001b[31m3.2 MB/s\u001b[0m eta \u001b[36m0:00:00\u001b[0m\n",
            "\u001b[?25h  Preparing metadata (setup.py) ... \u001b[?25l\u001b[?25hdone\n",
            "Building wheels for collected packages: pylatexenc\n",
            "  Building wheel for pylatexenc (setup.py) ... \u001b[?25l\u001b[?25hdone\n",
            "  Created wheel for pylatexenc: filename=pylatexenc-2.10-py3-none-any.whl size=136817 sha256=8b29b1daedb29461a27195f24fda547e16381ed599d2a7481e9d1dbc326a2fdc\n",
            "  Stored in directory: /root/.cache/pip/wheels/d3/31/8b/e09b0386afd80cfc556c00408c9aeea5c35c4d484a9c762fd5\n",
            "Successfully built pylatexenc\n",
            "Installing collected packages: pylatexenc\n",
            "Successfully installed pylatexenc-2.10\n"
          ]
        }
      ]
    },
    {
      "cell_type": "markdown",
      "source": [
        "# **Qubits**\n",
        "Qubits são ..., estado ..., produto ..."
      ],
      "metadata": {
        "id": "RdfsnZvht5xQ"
      }
    },
    {
      "cell_type": "code",
      "source": [
        "from qiskit import QuantumCircuit\n",
        "\n",
        "qc = QuantumCircuit(2) # parâmetro 2 é a quantidade de qubits ou registradores quânticos disponíveis\n",
        "qc.x(1) # gate quântico x está indo no qubit 1 (segundo qubit)\n",
        "qc.h(0) # gate de Hadamard  está indo no qubit 0\n",
        "\n",
        "qc.draw() # mostra a aparência do circuito quântico"
      ],
      "metadata": {
        "colab": {
          "base_uri": "https://localhost:8080/",
          "height": 94
        },
        "id": "F8TzQk8OYDBC",
        "outputId": "d6b2a18f-2ae3-49d8-f914-6d6dca73a8bb"
      },
      "execution_count": null,
      "outputs": [
        {
          "output_type": "execute_result",
          "data": {
            "text/plain": [
              "     ┌───┐\n",
              "q_0: ┤ H ├\n",
              "     ├───┤\n",
              "q_1: ┤ X ├\n",
              "     └───┘"
            ],
            "text/html": [
              "<pre style=\"word-wrap: normal;white-space: pre;background: #fff0;line-height: 1.1;font-family: &quot;Courier New&quot;,Courier,monospace\">     ┌───┐\n",
              "q_0: ┤ H ├\n",
              "     ├───┤\n",
              "q_1: ┤ X ├\n",
              "     └───┘</pre>"
            ]
          },
          "metadata": {},
          "execution_count": 5
        }
      ]
    },
    {
      "cell_type": "code",
      "source": [
        "import pennylane as qml # pennylane é interessante de ser usado para machine learning\n",
        "\n",
        "dev = qml.device(\"default.qubit\", wires=2)\n",
        "\n",
        "@qml.qnode(dev) # definição de decorator que vai falar para a função circuit() que o dispositivo associado a execução dele é dev\n",
        "def circuit(params):\n",
        "  qml.RY(params[0], wires=0)\n",
        "  qml.RY(params[1], wires=1)\n",
        "  qml.CNOT(wires=[0, 1])\n",
        "  return qml.expval(qml.PauliZ(1))\n",
        "\n",
        "params = [0.1, 0.3]\n",
        "\n",
        "drawer = qml.draw(circuit)\n",
        "print(drawer(params))\n"
      ],
      "metadata": {
        "colab": {
          "base_uri": "https://localhost:8080/"
        },
        "id": "QRSFRihIYtpT",
        "outputId": "e04e0634-5d36-487c-e2c0-85f79e861720"
      },
      "execution_count": null,
      "outputs": [
        {
          "output_type": "stream",
          "name": "stdout",
          "text": [
            "0: ──RY(0.10)─╭●─┤     \n",
            "1: ──RY(0.30)─╰X─┤  <Z>\n"
          ]
        }
      ]
    },
    {
      "cell_type": "markdown",
      "source": [
        "# **Algoritmo de Teleporte Quântico**\n",
        "\n",
        "O algoritmo de teleporte quântico é um protocolo de comunicação em que é possível realizar a transmissão de informação de um estado quântico usando dois bits de informação.\n",
        "\n",
        "No teleporte quântico são enviados bits para teleportar um qubit.\n",
        "\n",
        "**Teorema de não-clonagem**\n",
        "\n",
        "No teorema de não clonagem é dito que é impossível clonar um estado desconhecido."
      ],
      "metadata": {
        "id": "h2G060DSqs3T"
      }
    },
    {
      "cell_type": "markdown",
      "source": [
        "# **Algoritmo de Codificação Superdensa**\n",
        "\n",
        "Nesse algoritmo é possível transmititr 2 bits de informação usando 1 qubit em superposição.\n",
        "\n",
        "Supondo 2 agentes: Alice e Bob.\n",
        "\n",
        "Primeiro, Alice escolhe a mensagem que vai enviar para Bob. Nesse caso, os bits escolhidos foram 10, dente as 4 possíveis (00, 01, 10, 11).\n",
        "\n",
        "Alice e Bob precisam compartilhar um qubit do estado emaranhado composto por 2 qubits. Portanto, em algum momento Alice e Bob precisam estar perto o suficiente para cada um ficar com um dos qubits.\n",
        "Aqui também ocorre o estado de Bell, em que o estado contém o máximo de emaranhamento possível.\n",
        "\n",
        "Depois Alice vai performar gates quânticos correspondentes a mensagem que ela quer trocar. A ideia é que irão existir 4 combinações possíveis de gate quânticos, para que ela possa decidir qual a mensagem enviada através dos gates quânticos. Exemplo: Alice querendo mandar 10, ela escolherá no sistema dela para que isso dê certo. Por fim, Alice envia fisicamente o quibit escolhido para Bob.\n",
        "\n",
        "Bob faz o processo inverso: muda a base e realiza uma medição. Não é necessário aplicar gates no sistema. Daí, ele consegue resgatar a informação que Alice quer mandar para ele.\n",
        "\n",
        "Existe a dist?ância física entre ASlice e Bob depois do compartilhamento do emaranhado.\n",
        "\n",
        "Nesse algoritmo, é enviado um qubit para teleportar (enviar) 2 bits de informaçõa.\n",
        "\n",
        "Os gates que Alice colocará em seu circuito para codificar a mensagem dependerá da mensagem que ela quer. Se ela quiser enviar mensagem 00, ela precisa inserir o gate indentidade (I). Se for 01, precisa aplicar o gate de rotação (Z). Se for 10, precisa aplicar um not (X). Se for 11, precisa aplicar o gate de fase (Z) e o not (X)."
      ],
      "metadata": {
        "id": "EZ89bWTNAjo8"
      }
    },
    {
      "cell_type": "code",
      "source": [
        "# Criando implementação do protocolo que executa a função superdense codin\n",
        "\n",
        "#from qiskit import QuantumCircuit, Aer, execute # importação de módulos necessários\n",
        "from qiskit import *\n",
        "from qiskit.visualization import plot_histogram # verifica se a implementação do protocolo está correta\n",
        "\n",
        "# criação do estado de Bell para que Alice e Bob compartilhem um qubit do estado de Bell\n",
        "def create_bell_pair(qc, a, b):\n",
        "  qc.h(a)\n",
        "  qc.cx(a,b)\n",
        "\n",
        "# Alice codificando a mensagem, ou seja, aplicando cada um dos gates dependendo da mensagem que ela quer enviar\n",
        "def encode_message(qc, qubit, msg):\n",
        "  if msg == \"00\":\n",
        "    pass\n",
        "  elif msg == \"10\":\n",
        "    qc.x(qubit)\n",
        "  elif msg == \"01\":\n",
        "    qc.z(qubit)\n",
        "  elif msg == \"11\":\n",
        "    qc.z(qubit)\n",
        "    qc.x(qubit)\n",
        "  else:\n",
        "    print(\"Invalid Message: Sending '00'\")\n",
        "\n",
        "# Bob fazendo a mudança de base do sistema\n",
        "def decode_message(qc, a, b):\n",
        "  qc.cx(a,b)\n",
        "  qc.h(a)\n",
        "\n",
        "# crianção do circuito corresponde do protocolo\n",
        "qc = QuantumCircuit(2) # usando 2 qubits\n",
        "\n",
        "create_bell_pair(qc,0,1) # chamando a função que criará o estado de Bell\n",
        "\n",
        "message = \"01\" # escolhendo a mensagem\n",
        "encode_message(qc, 0, message) # Alice codifica a mensagem aplicando os gates que represente a mensagem 01\n",
        "qc.barrier() # adicionando barreiras para facilitar a visualização\n",
        "\n",
        "decode_message(qc,0,1) # Bob decodificando a mensagem, retornando os 2 bits originais que Alice enviou\n",
        "\n",
        "qc.measure_all() # medição do sistema\n",
        "\n",
        "qc.draw('mpl')\n",
        "\n",
        "\n",
        "#backend = Aer.get_backend('qasm_simualtor') # invocando o backend que trará informação de qual simular que está sendo usado\n",
        "#job = execute(qc, backend, shots=1000) # criar o job a apartir do execute que executará o circuito que está passando por parâmetro\n",
        "#result = job.result() # chamando o método result do job\n",
        "#counts = result.get_counts(qc)\n",
        "#print(\"\\nTotal counts are:\",counts)\n"
      ],
      "metadata": {
        "id": "53YMafC8CgyJ",
        "colab": {
          "base_uri": "https://localhost:8080/",
          "height": 255
        },
        "outputId": "d9c8f375-5cac-4d3f-999b-6a79ea1562dd"
      },
      "execution_count": null,
      "outputs": [
        {
          "output_type": "execute_result",
          "data": {
            "text/plain": [
              "<Figure size 914.831x284.278 with 1 Axes>"
            ],
            "image/png": "[encoded data removed]"
          },
          "metadata": {},
          "execution_count": 8
        }
      ]
    },
    {
      "cell_type": "markdown",
      "source": [
        "# **Algoritmos de Suporte Fundamentais**: QFT - Quantum FOurier Transform\n",
        "A transforma de Fourier serve para alterar o domínio da função do objeto observado, trasnformando essa fun\n",
        "\n"
      ],
      "metadata": {
        "id": "qls6aWUb2t0r"
      }
    },
    {
      "cell_type": "code",
      "source": [
        "from qiskit import QuantumCircuit\n",
        "from qiskit.circuit.library import QFT\n",
        "\n",
        "qc = QuantumCircuit(4) # criando um circuito quântico de 4 bits\n",
        "qc.append(QFT(num_qubits=len(range(4))), range(4)) # adicionando uma lista do valor corresponede da trasnformada de fourier com n=4\n",
        "\n",
        "qc.draw()"
      ],
      "metadata": {
        "colab": {
          "base_uri": "https://localhost:8080/",
          "height": 156
        },
        "id": "uYVRFmb76u93",
        "outputId": "9ccbd61f-e3bb-489f-ed39-a2a5817d3cb6"
      },
      "execution_count": null,
      "outputs": [
        {
          "output_type": "execute_result",
          "data": {
            "text/plain": [
              "     ┌──────┐\n",
              "q_0: ┤0     ├\n",
              "     │      │\n",
              "q_1: ┤1     ├\n",
              "     │  QFT │\n",
              "q_2: ┤2     ├\n",
              "     │      │\n",
              "q_3: ┤3     ├\n",
              "     └──────┘"
            ],
            "text/html": [
              "<pre style=\"word-wrap: normal;white-space: pre;background: #fff0;line-height: 1.1;font-family: &quot;Courier New&quot;,Courier,monospace\">     ┌──────┐\n",
              "q_0: ┤0     ├\n",
              "     │      │\n",
              "q_1: ┤1     ├\n",
              "     │  QFT │\n",
              "q_2: ┤2     ├\n",
              "     │      │\n",
              "q_3: ┤3     ├\n",
              "     └──────┘</pre>"
            ]
          },
          "metadata": {},
          "execution_count": 10
        }
      ]
    },
    {
      "cell_type": "markdown",
      "source": [
        "# **Algoritmos de Suporte Fundamentais**: QPE - Quantum Phase Estimation\n",
        "Dado um unitário U e um auto-estado (autovetor) $|v\\gt$, o algoritmo QPE retorna o autovalor $\\theta$ da expresão: $ U|v\\gt = e^{i \\theta}| v\\gt$.\n",
        "\n",
        "O autovalor mede o quanto o autovetor v vai crescer ou diminuir quando aplicado o operador U.\n",
        "\n",
        "\n"
      ],
      "metadata": {
        "id": "50m74Lys7aKH"
      }
    },
    {
      "cell_type": "code",
      "source": [
        "from qiskit import QuantumCircuit\n",
        "from qiskit.circuit.library import PhaseEstimation\n",
        "\n",
        "dims = 2 # quantidade de qubits\n",
        "\n",
        "qc = QuantumCircuit(dims) # criando o circuito quântico com 2 qubits\n",
        "\n",
        "pe = PhaseEstimation(num_evaluation_qubits=dims, unitary=qc) # instanciando a clase PhaseEstimation com a variável 'pe', passando a quantidade de qubits e o unitário em que quer descobrir o autovalor associado ao autovetor dele\n",
        "\n",
        "pe.measure_all()\n",
        "print(pe.draw())\n",
        "\n",
        "\n",
        "#backend = Aer.get_backend('statevector_simulator')\n",
        "#result = execute(pe, backend).result().get_statevector()\n",
        "\n",
        "#print(result)\n",
        "\n",
        "\n"
      ],
      "metadata": {
        "colab": {
          "base_uri": "https://localhost:8080/"
        },
        "id": "_NMatJz3ASXS",
        "outputId": "af4b2979-d05e-4bda-9806-3723d265afe1"
      },
      "execution_count": null,
      "outputs": [
        {
          "output_type": "stream",
          "name": "stdout",
          "text": [
            "        ┌──────┐ ░ ┌─┐         \n",
            "eval_0: ┤0     ├─░─┤M├─────────\n",
            "        │      │ ░ └╥┘┌─┐      \n",
            "eval_1: ┤1     ├─░──╫─┤M├──────\n",
            "        │  QPE │ ░  ║ └╥┘┌─┐   \n",
            "   q_0: ┤2     ├─░──╫──╫─┤M├───\n",
            "        │      │ ░  ║  ║ └╥┘┌─┐\n",
            "   q_1: ┤3     ├─░──╫──╫──╫─┤M├\n",
            "        └──────┘ ░  ║  ║  ║ └╥┘\n",
            "meas: 4/════════════╩══╩══╩══╩═\n",
            "                    0  1  2  3 \n"
          ]
        }
      ]
    },
    {
      "cell_type": "markdown",
      "source": [
        "# **Algoritmo de Deustch-Jozsa**\n",
        "Demonstra a vantagem quântica\n",
        "\n",
        "Saber a natureza de uma função misteriosa\n"
      ],
      "metadata": {
        "id": "fUzqtilGBiht"
      }
    }
  ]
}